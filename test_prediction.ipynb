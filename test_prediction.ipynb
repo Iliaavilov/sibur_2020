{
 "cells": [
  {
   "cell_type": "markdown",
   "metadata": {},
   "source": [
    "# Библиотеки"
   ]
  },
  {
   "cell_type": "code",
   "execution_count": 49,
   "metadata": {},
   "outputs": [],
   "source": [
    "import pandas as pd\n",
    "import numpy as np\n",
    "import neptune\n",
    "\n",
    "from NN import simple_torchpl\n",
    "from load_data import load\n",
    "from pl_framework import nn_training\n",
    "from cv import get_indices\n",
    "\n",
    "import torch"
   ]
  },
  {
   "cell_type": "code",
   "execution_count": 50,
   "metadata": {},
   "outputs": [
    {
     "name": "stderr",
     "output_type": "stream",
     "text": [
      "WARNING: There is a new version of neptune-client 0.4.125 (installed: 0.4.124).\n"
     ]
    },
    {
     "data": {
      "text/plain": [
       "Project(iliaavilov/SIBUR)"
      ]
     },
     "execution_count": 50,
     "metadata": {},
     "output_type": "execute_result"
    }
   ],
   "source": [
    "neptune.init('iliaavilov/SIBUR')"
   ]
  },
  {
   "cell_type": "code",
   "execution_count": 51,
   "metadata": {},
   "outputs": [],
   "source": [
    "import os\n",
    "os.environ['NEPTUNE_API_TOKEN']=\"eyJhcGlfYWRkcmVzcyI6Imh0dHBzOi8vdWkubmVwdHVuZS5haSIsImFwaV91cmwiOiJodHRwczovL3VpLm5lcHR1bmUuYWkiLCJhcGlfa2V5IjoiYzI0ZTMzMDQtZTFmZi00ZjgxLWI4NGQtZGJiOWQyNDJiYjE5In0=\"\n",
    "os.environ['NEPTUNE_PROJECT']=\"iliaavilov/SIBUR\"\n",
    "os.environ['NEPTUNE_NOTEBOOK_ID']=\"6eddcb21-b0fa-4073-a5c6-f26572800a8b\"\n",
    "os.environ['NEPTUNE_NOTEBOOK_PATH']=\"Desktop/Projects/sibur_2020/modeling.ipynb\""
   ]
  },
  {
   "cell_type": "code",
   "execution_count": null,
   "metadata": {
    "scrolled": true
   },
   "outputs": [],
   "source": [
    "exp = neptune.project.get_experiments('SIB-186')[0]\n",
    "pd.read_csv(exp._backend.get_channel_points_csv(exp, channel_internal_id = '2bbf878c-15d5-43ca-9fa3-c4eed9ca64bf'), \n",
    "            header = None)"
   ]
  },
  {
   "cell_type": "code",
   "execution_count": null,
   "metadata": {},
   "outputs": [],
   "source": [
    "channel_names = ['cv_scores']\n",
    "channels_data = {}\n",
    "channels_by_name = exp.get_channels()\n",
    "for channel_name in channel_names:\n",
    "    channel_id = channels_by_name[channel_name].id\n",
    "\n",
    "    channels_data[channel_name] = pd.read_csv(\n",
    "        exp._backend.get_channel_points_csv(exp, channel_id),\n",
    "        header=None,\n",
    "#            names=['x_{}'.format(channel_name), 'y_{}'.format(channel_name)],\n",
    "        dtype=str\n",
    "    )"
   ]
  },
  {
   "cell_type": "code",
   "execution_count": null,
   "metadata": {
    "scrolled": true
   },
   "outputs": [],
   "source": [
    "values = exp._backend.get_channel_points_csv(exp, channel_id).getvalue()\n",
    "values.split('\\n')"
   ]
  },
  {
   "cell_type": "code",
   "execution_count": null,
   "metadata": {
    "scrolled": true
   },
   "outputs": [],
   "source": [
    "neptune.project.get_experiments('SIB-186')[0].get_numeric_channels_values('cv_scores')"
   ]
  },
  {
   "cell_type": "code",
   "execution_count": null,
   "metadata": {},
   "outputs": [],
   "source": [
    "neptune.project.get_experiments('SIB-186')[0]._get_channel('channel_name', 'text')"
   ]
  },
  {
   "cell_type": "code",
   "execution_count": null,
   "metadata": {},
   "outputs": [],
   "source": [
    "neptune.project.get_experiments('SIB-186')[0].get_channels()"
   ]
  },
  {
   "cell_type": "markdown",
   "metadata": {},
   "source": [
    "# Константы"
   ]
  },
  {
   "cell_type": "code",
   "execution_count": 52,
   "metadata": {},
   "outputs": [],
   "source": [
    "data_path = 'data/'\n",
    "random_state = 54321\n",
    "pd.options.display.max_rows = 999\n",
    "features = ['A_rate', 'A_CH4', 'A_C2H6', 'A_C3H8', 'A_iC4H10', 'A_nC4H10',\n",
    "            'A_iC5H12', 'A_nC5H12', 'A_C6H14', 'B_rate']"
   ]
  },
  {
   "cell_type": "markdown",
   "metadata": {},
   "source": [
    "# Загрузка данных"
   ]
  },
  {
   "cell_type": "code",
   "execution_count": 82,
   "metadata": {},
   "outputs": [],
   "source": [
    "train_features, train_targets, test_features = load(data_path)"
   ]
  },
  {
   "cell_type": "code",
   "execution_count": 132,
   "metadata": {},
   "outputs": [],
   "source": [
    "ff = pd.DataFrame({'tt': [0, 1, 2], 'pp': [10, 11, 12], 'uu': [30,40, 50]})"
   ]
  },
  {
   "cell_type": "code",
   "execution_count": 136,
   "metadata": {},
   "outputs": [
    {
     "data": {
      "text/plain": [
       "0    13.333333\n",
       "1    17.333333\n",
       "2    21.333333\n",
       "dtype: float64"
      ]
     },
     "execution_count": 136,
     "metadata": {},
     "output_type": "execute_result"
    }
   ],
   "source": [
    "ff.mean(axis = 1)"
   ]
  },
  {
   "cell_type": "code",
   "execution_count": 83,
   "metadata": {},
   "outputs": [],
   "source": [
    "cv = get_indices(train_targets, [(pd.to_datetime('2020-03-01 00:00:00'), pd.to_datetime('2020-03-15 00:00:00')),\n",
    "                                 (pd.to_datetime('2020-03-15 00:00:00'), pd.to_datetime('2020-03-31 00:00:00')),\n",
    "#                                 (pd.to_datetime('2020-03-31 00:00:00'), pd.to_datetime('2020-04-15 00:00:00')),\n",
    "                                 (pd.to_datetime('2020-04-15 00:00:00'), pd.to_datetime('2020-04-30 00:00:00'))\n",
    "                                ]\n",
    "                )"
   ]
  },
  {
   "cell_type": "code",
   "execution_count": 87,
   "metadata": {},
   "outputs": [],
   "source": [
    "ts = test_features['timestamp'].values\n",
    "train_targets = train_targets.drop('timestamp', axis = 'columns')\n",
    "test_features = test_features.drop('timestamp', axis = 'columns')\n",
    "train_features = train_features.drop('timestamp', axis = 'columns')"
   ]
  },
  {
   "cell_type": "markdown",
   "metadata": {},
   "source": [
    "# Предсказания для теста"
   ]
  },
  {
   "cell_type": "code",
   "execution_count": null,
   "metadata": {},
   "outputs": [],
   "source": [
    "params_model = {'seq_len': 46, 'n_back': 57, 'n_h_1': 239, 'batch_size': 140, 'p_1': 0.0907928940794423, 'activation1': 'Tanhshrink', 'lr': 0.00021205814832404442, 'weight_decay': 0.021715440825812504, 'mean_best_iter': 626, 'n_in': 10, 'optimizer': 'AdamW', 'loss': torch.nn.L1Loss, 'n_out': 4}"
   ]
  },
  {
   "cell_type": "code",
   "execution_count": null,
   "metadata": {
    "scrolled": true
   },
   "outputs": [],
   "source": [
    "def make_seqs(n, data):\n",
    "    final_X = []\n",
    "\n",
    "    def seq2seq(x):\n",
    "        seqs_X.append(np.array(x).reshape(-1, 1))\n",
    "        return (5)\n",
    "\n",
    "    for col in data.columns:\n",
    "        seqs_X = []\n",
    "        data[col].rolling(n).apply(seq2seq)\n",
    "        seqs_X = np.array(seqs_X)\n",
    "        final_X.append(seqs_X)\n",
    "\n",
    "    final_X = np.concatenate(final_X, axis=2)\n",
    "    return (final_X)\n",
    "\n",
    "\n",
    "all_features = train_features.append(test_features, ignore_index = True)\n",
    "\n",
    "seq_len = params_model['seq_len']\n",
    "params_model.pop('seq_len')\n",
    "\n",
    "batch_size = params_model['batch_size']\n",
    "params_model.pop('batch_size')\n",
    "\n",
    "mean_best_iter = params_model['mean_best_iter']\n",
    "params_model.pop('mean_best_iter')\n",
    "\n",
    "n_back = params_model['n_back']\n",
    "params_model.pop('n_back')\n",
    "\n",
    "all_features = all_features.shift(n_back)\n",
    "all_features = all_features.dropna()\n",
    "\n",
    "all_features = make_seqs(seq_len, all_features)\n",
    "X_train = all_features[:(train_features.shape[0] - n_back-seq_len+1)]\n",
    "X_test = all_features[(train_features.shape[0] - n_back-seq_len+1):]\n",
    "\n",
    "X_train = X_train\n",
    "X_test = X_test\n",
    "\n",
    "y_train  = train_targets\n",
    "y_train = y_train[(seq_len + n_back-1):].reset_index(drop = True)"
   ]
  },
  {
   "cell_type": "code",
   "execution_count": null,
   "metadata": {},
   "outputs": [],
   "source": [
    "X_test.shape"
   ]
  },
  {
   "cell_type": "code",
   "execution_count": null,
   "metadata": {},
   "outputs": [],
   "source": [
    "test_features"
   ]
  },
  {
   "cell_type": "code",
   "execution_count": null,
   "metadata": {
    "scrolled": true
   },
   "outputs": [],
   "source": [
    "t = 0\n",
    "for fold in cv:\n",
    "    fold[0] = fold[0][(seq_len + n_back - 1):]\n",
    "    for idx1 in range(0, len(fold[0])):\n",
    "        fold[0][idx1] = fold[0][idx1] - seq_len - n_back + 1\n",
    "\n",
    "    for idx2 in range(0, len(fold[1])):\n",
    "        fold[1][idx2] = fold[1][idx2] - seq_len - n_back + 1\n",
    "    cv[t] = fold\n",
    "    t = t + 1"
   ]
  },
  {
   "cell_type": "code",
   "execution_count": null,
   "metadata": {
    "scrolled": true
   },
   "outputs": [],
   "source": [
    "cv_new = [cv[0]]"
   ]
  },
  {
   "cell_type": "code",
   "execution_count": null,
   "metadata": {
    "scrolled": true
   },
   "outputs": [],
   "source": [
    "my_boiii = nn_training(simple_torchpl, X_train, y_train)\n",
    "\n",
    "my_boiii.train(min_epochs=mean_best_iter,\n",
    "               max_epochs=mean_best_iter,\n",
    "               model_params=params_model,\n",
    "               batch_size=batch_size,\n",
    "               fold=cv_new[0],\n",
    "               val_fold=False)"
   ]
  },
  {
   "cell_type": "code",
   "execution_count": null,
   "metadata": {},
   "outputs": [],
   "source": [
    "my_model1 = my_boiii.trained_model\n",
    "my_model1.eval()"
   ]
  },
  {
   "cell_type": "code",
   "execution_count": null,
   "metadata": {},
   "outputs": [],
   "source": [
    "predictions = my_model1(torch.from_numpy(X_test).float()).detach().numpy()\n",
    "submission = pd.DataFrame(predictions, columns = ['B_C2H6', 'B_C3H8', 'B_iC4H10', 'B_nC4H10'])\n",
    "submission['timestamp'] = ts\n",
    "submission.to_csv('submission.csv', index = False)"
   ]
  },
  {
   "cell_type": "code",
   "execution_count": null,
   "metadata": {},
   "outputs": [],
   "source": [
    "#neptune.project.get_experiments('SIB-71')[0].log_metric('leaderboard_mape', 7.4781)"
   ]
  }
 ],
 "metadata": {
  "kernelspec": {
   "display_name": "Python 3",
   "language": "python",
   "name": "python3"
  },
  "language_info": {
   "codemirror_mode": {
    "name": "ipython",
    "version": 3
   },
   "file_extension": ".py",
   "mimetype": "text/x-python",
   "name": "python",
   "nbconvert_exporter": "python",
   "pygments_lexer": "ipython3",
   "version": "3.8.3"
  },
  "latex_envs": {
   "LaTeX_envs_menu_present": true,
   "autoclose": false,
   "autocomplete": true,
   "bibliofile": "biblio.bib",
   "cite_by": "apalike",
   "current_citInitial": 1,
   "eqLabelWithNumbers": true,
   "eqNumInitial": 1,
   "hotkeys": {
    "equation": "Ctrl-E",
    "itemize": "Ctrl-I"
   },
   "labels_anchors": false,
   "latex_user_defs": false,
   "report_style_numbering": false,
   "user_envs_cfg": false
  },
  "neptune": {
   "notebookId": "6eddcb21-b0fa-4073-a5c6-f26572800a8b"
  }
 },
 "nbformat": 4,
 "nbformat_minor": 4
}
