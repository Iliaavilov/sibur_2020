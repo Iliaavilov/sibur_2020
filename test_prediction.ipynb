{
 "cells": [
  {
   "cell_type": "markdown",
   "metadata": {},
   "source": [
    "# Библиотеки"
   ]
  },
  {
   "cell_type": "code",
   "execution_count": 7,
   "metadata": {},
   "outputs": [],
   "source": [
    "import pandas as pd\n",
    "import numpy as np\n",
    "import neptune\n",
    "\n",
    "from NN import simple_torchpl\n",
    "from load_data import load\n",
    "from pl_framework import nn_training\n",
    "from cv import get_indices\n",
    "import preprocessing\n",
    "\n",
    "import torch\n",
    "import json\n",
    "import copy"
   ]
  },
  {
   "cell_type": "code",
   "execution_count": 8,
   "metadata": {},
   "outputs": [
    {
     "name": "stderr",
     "output_type": "stream",
     "text": [
      "WARNING: There is a new version of neptune-client 0.4.125 (installed: 0.4.124).\n"
     ]
    },
    {
     "data": {
      "text/plain": [
       "Project(iliaavilov/SIBUR)"
      ]
     },
     "execution_count": 8,
     "metadata": {},
     "output_type": "execute_result"
    }
   ],
   "source": [
    "neptune.init('iliaavilov/SIBUR')"
   ]
  },
  {
   "cell_type": "markdown",
   "metadata": {},
   "source": [
    "# Константы"
   ]
  },
  {
   "cell_type": "code",
   "execution_count": 9,
   "metadata": {},
   "outputs": [],
   "source": [
    "data_path = 'data/'\n",
    "random_state = 54321\n",
    "pd.options.display.max_rows = 999\n",
    "features = ['A_rate', 'A_CH4', 'A_C2H6', 'A_C3H8', 'A_iC4H10', 'A_nC4H10',\n",
    "            'A_iC5H12', 'A_nC5H12', 'A_C6H14', 'B_rate']"
   ]
  },
  {
   "cell_type": "markdown",
   "metadata": {},
   "source": [
    "# Загрузка данных"
   ]
  },
  {
   "cell_type": "code",
   "execution_count": 10,
   "metadata": {},
   "outputs": [],
   "source": [
    "train_features, train_targets, test_features = load(data_path)"
   ]
  },
  {
   "cell_type": "code",
   "execution_count": 11,
   "metadata": {},
   "outputs": [],
   "source": [
    "cv = get_indices(train_targets, [(pd.to_datetime('2020-03-01 00:00:00'), pd.to_datetime('2020-03-15 00:00:00')),\n",
    "                                 (pd.to_datetime('2020-03-15 00:00:00'), pd.to_datetime('2020-03-31 00:00:00')),\n",
    "                                 (pd.to_datetime('2020-04-15 00:00:00'), pd.to_datetime('2020-04-30 00:00:00'))\n",
    "                                ]\n",
    "                )"
   ]
  },
  {
   "cell_type": "code",
   "execution_count": 12,
   "metadata": {},
   "outputs": [],
   "source": [
    "ts = test_features['timestamp'].values\n",
    "#train_targets = train_targets.drop('timestamp', axis = 'columns')\n",
    "#test_features = test_features.drop('timestamp', axis = 'columns')\n",
    "#train_features = train_features.drop('timestamp', axis = 'columns')"
   ]
  },
  {
   "cell_type": "markdown",
   "metadata": {},
   "source": [
    "# Предсказания для теста"
   ]
  },
  {
   "cell_type": "code",
   "execution_count": 13,
   "metadata": {
    "scrolled": true
   },
   "outputs": [],
   "source": [
    "exp_index = 'SIB-294'\n",
    "n_trial = 6398\n",
    "\n",
    "\n",
    "exp = neptune.project.get_experiments(exp_index)[0]\n",
    "\n",
    "channel_names = ['run_parameters']\n",
    "channels_data = {}\n",
    "channels_by_name = exp.get_channels()\n",
    "for channel_name in channel_names:\n",
    "    channel_id = channels_by_name[channel_name].id\n",
    "\n",
    "    channels_data[channel_name] = pd.read_csv(\n",
    "        exp._backend.get_channel_points_csv(exp, channel_id),\n",
    "        header=None,\n",
    "        dtype=str\n",
    "    )\n",
    "    \n",
    "values = exp._backend.get_channel_points_csv(exp, channel_id).getvalue()\n",
    "data = pd.DataFrame(values.split('\\n'))\n",
    "data = data.iloc[:-1]\n",
    "data[0] = data[0].apply(lambda x: json.loads('{' + x.split(',{')[1].replace(\"'\", '\"')))\n",
    "data.columns = ['params']\n",
    "#iterations = exp.get_numeric_channels_values('iterations').drop('x', axis = 'columns')\n",
    "#data = pd.concat([data, iterations], axis = 'columns')\n",
    "\n",
    "data_trial = data.iloc[n_trial, ]\n",
    "params_trial = data_trial['params']\n",
    "#params_trial['mean_best_iter'] = data_trial['iterations']"
   ]
  },
  {
   "cell_type": "code",
   "execution_count": 14,
   "metadata": {},
   "outputs": [],
   "source": [
    "params_trial['objective'] = 'fair'\n",
    "params_trial['n_jobs'] = -1\n",
    "params_trial['n_estimators'] = 3000\n",
    "params_trial['random_state'] = random_state\n",
    "params_trial['n_in'] = 0\n",
    "params_trial['feature_fraction'] = 1\n",
    "params_trial['bagging_fraction'] = 1\n",
    "\n",
    "params_trial['n_in'] = 0\n",
    "params_trial['n_back_A_rate'] = 23\n",
    "params_trial['n_back_A_CH4'] = 71\n",
    "params_trial['n_back_A_C2H6'] = 196\n",
    "params_trial['n_back_A_C3H8'] = 20\n",
    "params_trial['n_back_A_iC4H10'] = 104\n",
    "params_trial['n_back_A_iC5H12'] = 194\n",
    "params_trial['n_back_A_nC4H10'] = 235\n",
    "params_trial['n_back_A_nC5H12'] = 185\n",
    "params_trial['n_back_A_C6H14'] = 99\n",
    "params_trial['n_back_B_rate'] = 116"
   ]
  },
  {
   "cell_type": "code",
   "execution_count": 15,
   "metadata": {},
   "outputs": [],
   "source": [
    "all_features = train_features.append(test_features, ignore_index = True)\n",
    "n_backs = []\n",
    "for feature in ['A_rate', 'A_CH4', 'A_C2H6', 'A_C3H8', 'A_iC4H10',\n",
    "   'A_nC4H10', 'A_iC5H12', 'A_nC5H12', 'A_C6H14', 'B_rate']:\n",
    "    n_backs.append(params_trial['n_back_'+feature])"
   ]
  },
  {
   "cell_type": "code",
   "execution_count": 16,
   "metadata": {
    "scrolled": true
   },
   "outputs": [
    {
     "name": "stdout",
     "output_type": "stream",
     "text": [
      "current params: {'num_leaves': 2, 'learning_rate': 0.3094159562136855, 'min_child_samples': 2, 'objective': 'fair', 'n_jobs': -1, 'n_estimators': 3000, 'random_state': 54321, 'n_in': 0, 'feature_fraction': 1, 'bagging_fraction': 1, 'n_back_A_rate': 23, 'n_back_A_CH4': 71, 'n_back_A_C2H6': 196, 'n_back_A_C3H8': 20, 'n_back_A_iC4H10': 104, 'n_back_A_iC5H12': 194, 'n_back_A_nC4H10': 235, 'n_back_A_nC5H12': 185, 'n_back_A_C6H14': 99, 'n_back_B_rate': 116}\n",
      "X shape before dropped nans (7631, 11)\n",
      "cv before trans: 719\n",
      "Initial shape of X after dropping nans: (7396, 11)\n",
      "Initial shape of y: (3647, 5)\n",
      "cv after trans: 484\n",
      "shape of X after trans: (7396, 10)\n",
      "shape of y after trans: (3412,)\n"
     ]
    }
   ],
   "source": [
    "all_features = train_features.append(test_features, ignore_index = True)\n",
    "\n",
    "X, y_train, cv, params = preprocessing.preprocessing(all_features.copy(), \n",
    "                                                     train_targets.copy(), \n",
    "                                                     copy.deepcopy(cv), \n",
    "                                                     copy.deepcopy(params_trial), \n",
    "                                                     pop = False)"
   ]
  },
  {
   "cell_type": "code",
   "execution_count": 17,
   "metadata": {},
   "outputs": [],
   "source": [
    "X_train = X[:(train_features.shape[0] - max(n_backs))]\n",
    "X_test = X[(train_features.shape[0] -  max(n_backs)):]"
   ]
  },
  {
   "cell_type": "code",
   "execution_count": 18,
   "metadata": {},
   "outputs": [
    {
     "name": "stdout",
     "output_type": "stream",
     "text": [
      "(3412,)\n",
      "(3412, 10)\n"
     ]
    }
   ],
   "source": [
    "print(y_train.shape)\n",
    "print(X_train.shape)"
   ]
  },
  {
   "cell_type": "code",
   "execution_count": 19,
   "metadata": {},
   "outputs": [
    {
     "name": "stdout",
     "output_type": "stream",
     "text": [
      "(3984, 11)\n",
      "(3984, 10)\n"
     ]
    }
   ],
   "source": [
    "print(test_features.shape)\n",
    "print(X_test.shape)"
   ]
  },
  {
   "cell_type": "code",
   "execution_count": 20,
   "metadata": {
    "scrolled": true
   },
   "outputs": [],
   "source": [
    "fold = cv[0]"
   ]
  },
  {
   "cell_type": "code",
   "execution_count": 21,
   "metadata": {},
   "outputs": [],
   "source": [
    "import pandas as pd\n",
    "import neptune\n",
    "import optuna\n",
    "import neptunecontrib.monitoring.optuna as optuna_utils\n",
    "import numpy as np\n",
    "import copy\n",
    "from sklearn.metrics import mean_absolute_error\n",
    "import lightgbm as lgb\n",
    "import preprocessing\n",
    "import os\n"
   ]
  },
  {
   "cell_type": "code",
   "execution_count": 22,
   "metadata": {
    "scrolled": false
   },
   "outputs": [
    {
     "name": "stdout",
     "output_type": "stream",
     "text": [
      "[LightGBM] [Warning] Auto-choosing row-wise multi-threading, the overhead of testing was 0.000045 seconds.\n",
      "You can set `force_row_wise=true` to remove the overhead.\n",
      "And if memory is not enough, you can set `force_col_wise=true`.\n",
      "[LightGBM] [Info] Total Bins 1620\n",
      "[LightGBM] [Info] Number of data points in the train set: 484, number of used features: 10\n",
      "[LightGBM] [Info] Start training from score 4.323842\n"
     ]
    }
   ],
   "source": [
    "submission = pd.DataFrame(columns = ['B_C2H6', 'B_C3H8', 'B_iC4H10', 'B_nC4H10'])\n",
    "submission['timestamp'] = ts\n",
    "X_tr = X_train.iloc[cv[-1][0], :]\n",
    "y_tr = y_train.iloc[cv[-1][0]]\n",
    "X_te = X_train.iloc[cv[-1][1], :]\n",
    "y_te = y_train.iloc[cv[-1][1]]\n",
    "\n",
    "train_data = lgb.Dataset(X_tr,\n",
    "                                 y_tr)\n",
    "test_data = lgb.Dataset(X_te,\n",
    "                        y_te\n",
    "                        )\n",
    "evals_result = {}\n",
    "\n",
    "def lgb_scoring(y_hat, data):\n",
    "    y_true = data.get_label()\n",
    "    return 'loss', np.mean(np.abs((y_true - y_hat)/y_true)), False\n",
    "    \n",
    "test_model = lgb.train(params = params,\n",
    "                           train_set = train_data,\n",
    "                           valid_sets=[test_data],\n",
    "                           valid_names=['test_data'],\n",
    "                           feval = lgb_scoring,\n",
    "                           evals_result = evals_result,\n",
    "                           verbose_eval = False)\n",
    "\n",
    "target = 'B_C2H6'\n",
    "predictions = test_model.predict(X_test)\n",
    "submission[target] = predictions\n",
    "    \n",
    "submission.to_csv('submission_C2H6.csv', index = False)"
   ]
  },
  {
   "cell_type": "code",
   "execution_count": 23,
   "metadata": {},
   "outputs": [],
   "source": [
    "sub_lgbm = pd.read_csv('submission_C2H6.csv')\n",
    "sub_nn = pd.read_csv('submission.csv')\n",
    "sub_nn[target] = sub_lgbm[target]\n",
    "sub_nn.to_csv('submission_final.csv', index = False)"
   ]
  },
  {
   "cell_type": "code",
   "execution_count": 24,
   "metadata": {},
   "outputs": [
    {
     "data": {
      "text/html": [
       "<div>\n",
       "<style scoped>\n",
       "    .dataframe tbody tr th:only-of-type {\n",
       "        vertical-align: middle;\n",
       "    }\n",
       "\n",
       "    .dataframe tbody tr th {\n",
       "        vertical-align: top;\n",
       "    }\n",
       "\n",
       "    .dataframe thead th {\n",
       "        text-align: right;\n",
       "    }\n",
       "</style>\n",
       "<table border=\"1\" class=\"dataframe\">\n",
       "  <thead>\n",
       "    <tr style=\"text-align: right;\">\n",
       "      <th></th>\n",
       "      <th>B_C2H6</th>\n",
       "      <th>B_C3H8</th>\n",
       "      <th>B_iC4H10</th>\n",
       "      <th>B_nC4H10</th>\n",
       "      <th>timestamp</th>\n",
       "    </tr>\n",
       "  </thead>\n",
       "  <tbody>\n",
       "    <tr>\n",
       "      <th>0</th>\n",
       "      <td>4.619516</td>\n",
       "      <td>NaN</td>\n",
       "      <td>NaN</td>\n",
       "      <td>NaN</td>\n",
       "      <td>2020-05-01 00:00:00</td>\n",
       "    </tr>\n",
       "    <tr>\n",
       "      <th>1</th>\n",
       "      <td>4.490723</td>\n",
       "      <td>NaN</td>\n",
       "      <td>NaN</td>\n",
       "      <td>NaN</td>\n",
       "      <td>2020-05-01 00:30:00</td>\n",
       "    </tr>\n",
       "    <tr>\n",
       "      <th>2</th>\n",
       "      <td>4.642791</td>\n",
       "      <td>NaN</td>\n",
       "      <td>NaN</td>\n",
       "      <td>NaN</td>\n",
       "      <td>2020-05-01 01:00:00</td>\n",
       "    </tr>\n",
       "    <tr>\n",
       "      <th>3</th>\n",
       "      <td>4.637100</td>\n",
       "      <td>NaN</td>\n",
       "      <td>NaN</td>\n",
       "      <td>NaN</td>\n",
       "      <td>2020-05-01 01:30:00</td>\n",
       "    </tr>\n",
       "    <tr>\n",
       "      <th>4</th>\n",
       "      <td>4.822347</td>\n",
       "      <td>NaN</td>\n",
       "      <td>NaN</td>\n",
       "      <td>NaN</td>\n",
       "      <td>2020-05-01 02:00:00</td>\n",
       "    </tr>\n",
       "    <tr>\n",
       "      <th>...</th>\n",
       "      <td>...</td>\n",
       "      <td>...</td>\n",
       "      <td>...</td>\n",
       "      <td>...</td>\n",
       "      <td>...</td>\n",
       "    </tr>\n",
       "    <tr>\n",
       "      <th>3979</th>\n",
       "      <td>4.165304</td>\n",
       "      <td>NaN</td>\n",
       "      <td>NaN</td>\n",
       "      <td>NaN</td>\n",
       "      <td>2020-07-22 21:30:00</td>\n",
       "    </tr>\n",
       "    <tr>\n",
       "      <th>3980</th>\n",
       "      <td>4.038105</td>\n",
       "      <td>NaN</td>\n",
       "      <td>NaN</td>\n",
       "      <td>NaN</td>\n",
       "      <td>2020-07-22 22:00:00</td>\n",
       "    </tr>\n",
       "    <tr>\n",
       "      <th>3981</th>\n",
       "      <td>3.918925</td>\n",
       "      <td>NaN</td>\n",
       "      <td>NaN</td>\n",
       "      <td>NaN</td>\n",
       "      <td>2020-07-22 22:30:00</td>\n",
       "    </tr>\n",
       "    <tr>\n",
       "      <th>3982</th>\n",
       "      <td>3.754172</td>\n",
       "      <td>NaN</td>\n",
       "      <td>NaN</td>\n",
       "      <td>NaN</td>\n",
       "      <td>2020-07-22 23:00:00</td>\n",
       "    </tr>\n",
       "    <tr>\n",
       "      <th>3983</th>\n",
       "      <td>3.769449</td>\n",
       "      <td>NaN</td>\n",
       "      <td>NaN</td>\n",
       "      <td>NaN</td>\n",
       "      <td>2020-07-22 23:30:00</td>\n",
       "    </tr>\n",
       "  </tbody>\n",
       "</table>\n",
       "<p>3984 rows × 5 columns</p>\n",
       "</div>"
      ],
      "text/plain": [
       "        B_C2H6  B_C3H8  B_iC4H10  B_nC4H10            timestamp\n",
       "0     4.619516     NaN       NaN       NaN  2020-05-01 00:00:00\n",
       "1     4.490723     NaN       NaN       NaN  2020-05-01 00:30:00\n",
       "2     4.642791     NaN       NaN       NaN  2020-05-01 01:00:00\n",
       "3     4.637100     NaN       NaN       NaN  2020-05-01 01:30:00\n",
       "4     4.822347     NaN       NaN       NaN  2020-05-01 02:00:00\n",
       "...        ...     ...       ...       ...                  ...\n",
       "3979  4.165304     NaN       NaN       NaN  2020-07-22 21:30:00\n",
       "3980  4.038105     NaN       NaN       NaN  2020-07-22 22:00:00\n",
       "3981  3.918925     NaN       NaN       NaN  2020-07-22 22:30:00\n",
       "3982  3.754172     NaN       NaN       NaN  2020-07-22 23:00:00\n",
       "3983  3.769449     NaN       NaN       NaN  2020-07-22 23:30:00\n",
       "\n",
       "[3984 rows x 5 columns]"
      ]
     },
     "execution_count": 24,
     "metadata": {},
     "output_type": "execute_result"
    }
   ],
   "source": [
    "pd.read_csv('submission_C2H6.csv')"
   ]
  },
  {
   "cell_type": "code",
   "execution_count": 26,
   "metadata": {
    "scrolled": true
   },
   "outputs": [
    {
     "data": {
      "text/html": [
       "<div>\n",
       "<style scoped>\n",
       "    .dataframe tbody tr th:only-of-type {\n",
       "        vertical-align: middle;\n",
       "    }\n",
       "\n",
       "    .dataframe tbody tr th {\n",
       "        vertical-align: top;\n",
       "    }\n",
       "\n",
       "    .dataframe thead th {\n",
       "        text-align: right;\n",
       "    }\n",
       "</style>\n",
       "<table border=\"1\" class=\"dataframe\">\n",
       "  <thead>\n",
       "    <tr style=\"text-align: right;\">\n",
       "      <th></th>\n",
       "      <th>B_C2H6</th>\n",
       "      <th>B_C3H8</th>\n",
       "      <th>B_iC4H10</th>\n",
       "      <th>B_nC4H10</th>\n",
       "      <th>timestamp</th>\n",
       "    </tr>\n",
       "  </thead>\n",
       "  <tbody>\n",
       "    <tr>\n",
       "      <th>0</th>\n",
       "      <td>4.365124</td>\n",
       "      <td>37.603985</td>\n",
       "      <td>16.775425</td>\n",
       "      <td>23.656387</td>\n",
       "      <td>2020-05-01 00:00:00</td>\n",
       "    </tr>\n",
       "    <tr>\n",
       "      <th>1</th>\n",
       "      <td>4.365346</td>\n",
       "      <td>37.604095</td>\n",
       "      <td>16.775760</td>\n",
       "      <td>23.656445</td>\n",
       "      <td>2020-05-01 00:30:00</td>\n",
       "    </tr>\n",
       "    <tr>\n",
       "      <th>2</th>\n",
       "      <td>4.365437</td>\n",
       "      <td>37.604200</td>\n",
       "      <td>16.776150</td>\n",
       "      <td>23.656548</td>\n",
       "      <td>2020-05-01 01:00:00</td>\n",
       "    </tr>\n",
       "    <tr>\n",
       "      <th>3</th>\n",
       "      <td>4.365876</td>\n",
       "      <td>37.604263</td>\n",
       "      <td>16.776620</td>\n",
       "      <td>23.656752</td>\n",
       "      <td>2020-05-01 01:30:00</td>\n",
       "    </tr>\n",
       "    <tr>\n",
       "      <th>4</th>\n",
       "      <td>4.358757</td>\n",
       "      <td>37.604330</td>\n",
       "      <td>16.792437</td>\n",
       "      <td>23.656826</td>\n",
       "      <td>2020-05-01 02:00:00</td>\n",
       "    </tr>\n",
       "    <tr>\n",
       "      <th>...</th>\n",
       "      <td>...</td>\n",
       "      <td>...</td>\n",
       "      <td>...</td>\n",
       "      <td>...</td>\n",
       "      <td>...</td>\n",
       "    </tr>\n",
       "    <tr>\n",
       "      <th>3979</th>\n",
       "      <td>4.312370</td>\n",
       "      <td>37.627583</td>\n",
       "      <td>16.820438</td>\n",
       "      <td>23.667574</td>\n",
       "      <td>2020-07-22 21:30:00</td>\n",
       "    </tr>\n",
       "    <tr>\n",
       "      <th>3980</th>\n",
       "      <td>4.313179</td>\n",
       "      <td>37.627583</td>\n",
       "      <td>16.820396</td>\n",
       "      <td>23.690147</td>\n",
       "      <td>2020-07-22 22:00:00</td>\n",
       "    </tr>\n",
       "    <tr>\n",
       "      <th>3981</th>\n",
       "      <td>4.315136</td>\n",
       "      <td>37.627560</td>\n",
       "      <td>16.820278</td>\n",
       "      <td>23.690086</td>\n",
       "      <td>2020-07-22 22:30:00</td>\n",
       "    </tr>\n",
       "    <tr>\n",
       "      <th>3982</th>\n",
       "      <td>4.315435</td>\n",
       "      <td>37.627540</td>\n",
       "      <td>16.820276</td>\n",
       "      <td>23.689964</td>\n",
       "      <td>2020-07-22 23:00:00</td>\n",
       "    </tr>\n",
       "    <tr>\n",
       "      <th>3983</th>\n",
       "      <td>4.316267</td>\n",
       "      <td>37.627506</td>\n",
       "      <td>16.820435</td>\n",
       "      <td>23.689892</td>\n",
       "      <td>2020-07-22 23:30:00</td>\n",
       "    </tr>\n",
       "  </tbody>\n",
       "</table>\n",
       "<p>3984 rows × 5 columns</p>\n",
       "</div>"
      ],
      "text/plain": [
       "        B_C2H6     B_C3H8   B_iC4H10   B_nC4H10            timestamp\n",
       "0     4.365124  37.603985  16.775425  23.656387  2020-05-01 00:00:00\n",
       "1     4.365346  37.604095  16.775760  23.656445  2020-05-01 00:30:00\n",
       "2     4.365437  37.604200  16.776150  23.656548  2020-05-01 01:00:00\n",
       "3     4.365876  37.604263  16.776620  23.656752  2020-05-01 01:30:00\n",
       "4     4.358757  37.604330  16.792437  23.656826  2020-05-01 02:00:00\n",
       "...        ...        ...        ...        ...                  ...\n",
       "3979  4.312370  37.627583  16.820438  23.667574  2020-07-22 21:30:00\n",
       "3980  4.313179  37.627583  16.820396  23.690147  2020-07-22 22:00:00\n",
       "3981  4.315136  37.627560  16.820278  23.690086  2020-07-22 22:30:00\n",
       "3982  4.315435  37.627540  16.820276  23.689964  2020-07-22 23:00:00\n",
       "3983  4.316267  37.627506  16.820435  23.689892  2020-07-22 23:30:00\n",
       "\n",
       "[3984 rows x 5 columns]"
      ]
     },
     "execution_count": 26,
     "metadata": {},
     "output_type": "execute_result"
    }
   ],
   "source": [
    "pd.read_csv('submission_final.csv')"
   ]
  },
  {
   "cell_type": "code",
   "execution_count": 27,
   "metadata": {},
   "outputs": [],
   "source": [
    "neptune.project.get_experiments(exp_index)[0].log_metric('leaderboard_mape', 2.6057)"
   ]
  }
 ],
 "metadata": {
  "kernelspec": {
   "display_name": "Python 3",
   "language": "python",
   "name": "python3"
  },
  "language_info": {
   "codemirror_mode": {
    "name": "ipython",
    "version": 3
   },
   "file_extension": ".py",
   "mimetype": "text/x-python",
   "name": "python",
   "nbconvert_exporter": "python",
   "pygments_lexer": "ipython3",
   "version": "3.8.3"
  },
  "latex_envs": {
   "LaTeX_envs_menu_present": true,
   "autoclose": false,
   "autocomplete": true,
   "bibliofile": "biblio.bib",
   "cite_by": "apalike",
   "current_citInitial": 1,
   "eqLabelWithNumbers": true,
   "eqNumInitial": 1,
   "hotkeys": {
    "equation": "Ctrl-E",
    "itemize": "Ctrl-I"
   },
   "labels_anchors": false,
   "latex_user_defs": false,
   "report_style_numbering": false,
   "user_envs_cfg": false
  },
  "neptune": {
   "notebookId": "6eddcb21-b0fa-4073-a5c6-f26572800a8b"
  }
 },
 "nbformat": 4,
 "nbformat_minor": 4
}
