{
 "cells": [
  {
   "cell_type": "markdown",
   "metadata": {},
   "source": [
    "# Библиотеки"
   ]
  },
  {
   "cell_type": "code",
   "execution_count": 1,
   "metadata": {},
   "outputs": [],
   "source": [
    "import neptune\n",
    "import pandas as pd\n",
    "\n",
    "from cv import get_indices\n",
    "from load_data import load\n",
    "from model_selection import training\n",
    "import random\n",
    "from NN import simple_torchpl\n",
    "from pl_framework import nn_training\n",
    "from pytorch_forecasting.metrics import MAPE\n",
    "import torch"
   ]
  },
  {
   "cell_type": "code",
   "execution_count": 2,
   "metadata": {},
   "outputs": [
    {
     "name": "stderr",
     "output_type": "stream",
     "text": [
      "WARNING: There is a new version of neptune-client 0.4.125 (installed: 0.4.124).\n"
     ]
    },
    {
     "data": {
      "text/plain": [
       "Project(iliaavilov/SIBUR)"
      ]
     },
     "execution_count": 2,
     "metadata": {},
     "output_type": "execute_result"
    }
   ],
   "source": [
    "neptune.init('iliaavilov/SIBUR')"
   ]
  },
  {
   "cell_type": "code",
   "execution_count": 3,
   "metadata": {},
   "outputs": [],
   "source": [
    "import os\n",
    "os.environ['NEPTUNE_API_TOKEN']=\"eyJhcGlfYWRkcmVzcyI6Imh0dHBzOi8vdWkubmVwdHVuZS5haSIsImFwaV91cmwiOiJodHRwczovL3VpLm5lcHR1bmUuYWkiLCJhcGlfa2V5IjoiYzI0ZTMzMDQtZTFmZi00ZjgxLWI4NGQtZGJiOWQyNDJiYjE5In0=\"\n",
    "os.environ['NEPTUNE_PROJECT']=\"iliaavilov/SIBUR\"\n",
    "os.environ['NEPTUNE_NOTEBOOK_ID']=\"3334104b-e4da-40ca-a353-d78790164c0b\"\n",
    "os.environ['NEPTUNE_NOTEBOOK_PATH']=\"Desktop/Projects/sibur_2020/modeling.ipynb\""
   ]
  },
  {
   "cell_type": "markdown",
   "metadata": {},
   "source": [
    "# Константы"
   ]
  },
  {
   "cell_type": "code",
   "execution_count": 4,
   "metadata": {},
   "outputs": [],
   "source": [
    "data_path = 'data/'\n",
    "random_state = 54321"
   ]
  },
  {
   "cell_type": "markdown",
   "metadata": {},
   "source": [
    "# Загрузка данных"
   ]
  },
  {
   "cell_type": "code",
   "execution_count": 5,
   "metadata": {},
   "outputs": [],
   "source": [
    "train_features, train_targets, _ = load(data_path)"
   ]
  },
  {
   "cell_type": "markdown",
   "metadata": {},
   "source": [
    "# Валидация"
   ]
  },
  {
   "cell_type": "code",
   "execution_count": 6,
   "metadata": {
    "scrolled": true
   },
   "outputs": [],
   "source": [
    "cv = get_indices(train_targets, [(pd.to_datetime('2020-03-01 00:00:00'), pd.to_datetime('2020-03-15 00:00:00')),\n",
    "                                 (pd.to_datetime('2020-03-15 00:00:00'), pd.to_datetime('2020-03-31 00:00:00')),\n",
    "                                 (pd.to_datetime('2020-04-15 00:00:00'), pd.to_datetime('2020-04-30 00:00:00'))\n",
    "                                ]\n",
    "                )"
   ]
  },
  {
   "cell_type": "code",
   "execution_count": 7,
   "metadata": {},
   "outputs": [],
   "source": [
    "#train_targets = train_targets.drop('timestamp', axis = 'columns')\n",
    "#train_features = train_features.drop('timestamp', axis = 'columns')"
   ]
  },
  {
   "cell_type": "markdown",
   "metadata": {},
   "source": [
    "# Подбор модели"
   ]
  },
  {
   "cell_type": "code",
   "execution_count": null,
   "metadata": {
    "scrolled": true
   },
   "outputs": [
    {
     "name": "stdout",
     "output_type": "stream",
     "text": [
      "https://ui.neptune.ai/iliaavilov/SIBUR/e/SIB-232\r\n"
     ]
    },
    {
     "name": "stderr",
     "output_type": "stream",
     "text": [
      "\u001b[32m[I 2020-11-29 02:58:20,077]\u001b[0m A new study created in memory with name: no-name-8572bc66-4610-40a1-afa8-261b8db1a79d\u001b[0m\n"
     ]
    },
    {
     "name": "stdout",
     "output_type": "stream",
     "text": [
      "current params: {'objective': 'regression', 'metric': 'mape', 'n_jobs': -1, 'n_estimators': 10, 'random_state': 54321, 'num_leaves': 83, 'learning_rate': 0.12858766698944454, 'min_child_samples': 98, 'feature_fraction': 0.8750823012386388, 'bagging_fraction': 0.6578708780010873, 'n_in': 11, 'n_back': 128}\n",
      "X shape before dropped nans (3647, 11)\n",
      "X shape after dropped nans (3519, 11)\n",
      "cv shape before dropped nans 719\n",
      "cv shape after dropped nans 580\n",
      "[LightGBM] [Warning] Auto-choosing col-wise multi-threading, the overhead of testing was 0.003391 seconds.\n",
      "You can set `force_col_wise=true` to remove the overhead.\n",
      "[LightGBM] [Info] Total Bins 30600\n",
      "[LightGBM] [Info] Number of data points in the train set: 580, number of used features: 120\n",
      "[LightGBM] [Warning] Auto-choosing col-wise multi-threading, the overhead of testing was 0.003334 seconds.\n",
      "You can set `force_col_wise=true` to remove the overhead.\n",
      "[LightGBM] [Info] Total Bins 30600\n",
      "[LightGBM] [Info] Number of data points in the train set: 580, number of used features: 120\n",
      "[LightGBM] [Info] Start training from score 4.288604\n",
      "[LightGBM] [Warning] No further splits with positive gain, best gain: -inf\n",
      "[LightGBM] [Info] Start training from score 4.288604\n",
      "[LightGBM] [Warning] No further splits with positive gain, best gain: -inf\n",
      "[LightGBM] [Warning] No further splits with positive gain, best gain: -inf\n",
      "[LightGBM] [Warning] No further splits with positive gain, best gain: -inf\n",
      "[LightGBM] [Warning] No further splits with positive gain, best gain: -inf\n",
      "[LightGBM] [Warning] No further splits with positive gain, best gain: -inf\n",
      "[LightGBM] [Warning] No further splits with positive gain, best gain: -inf\n",
      "[LightGBM] [Warning] No further splits with positive gain, best gain: -inf\n",
      "[LightGBM] [Warning] No further splits with positive gain, best gain: -inf\n",
      "[LightGBM] [Warning] No further splits with positive gain, best gain: -inf\n",
      "[LightGBM] [Warning] No further splits with positive gain, best gain: -inf\n",
      "[LightGBM] [Warning] No further splits with positive gain, best gain: -inf\n",
      "[LightGBM] [Warning] No further splits with positive gain, best gain: -inf\n",
      "[LightGBM] [Warning] No further splits with positive gain, best gain: -inf\n",
      "[LightGBM] [Warning] No further splits with positive gain, best gain: -inf\n",
      "[LightGBM] [Warning] No further splits with positive gain, best gain: -inf\n",
      "[LightGBM] [Warning] No further splits with positive gain, best gain: -inf\n",
      "[LightGBM] [Warning] No further splits with positive gain, best gain: -inf\n",
      "[LightGBM] [Warning] No further splits with positive gain, best gain: -inf\n",
      "[LightGBM] [Warning] No further splits with positive gain, best gain: -inf\n",
      "[LightGBM] [Warning] Auto-choosing col-wise multi-threading, the overhead of testing was 0.002824 seconds.\n",
      "You can set `force_col_wise=true` to remove the overhead.\n",
      "[LightGBM] [Info] Total Bins 23280\n",
      "[LightGBM] [Info] Number of data points in the train set: 580, number of used features: 120\n",
      "[LightGBM] [Info] Start training from score 4.288604\n",
      "[LightGBM] [Warning] No further splits with positive gain, best gain: -inf\n"
     ]
    },
    {
     "name": "stderr",
     "output_type": "stream",
     "text": [
      "\u001b[32m[I 2020-11-29 02:58:49,884]\u001b[0m Trial 0 finished with value: 0.09263365896757793 and parameters: {'num_leaves': 83, 'learning_rate': 0.12858766698944454, 'min_child_samples': 98, 'feature_fraction': 0.8750823012386388, 'bagging_fraction': 0.6578708780010873, 'n_in': 11, 'n_back': 128}. Best is trial 0 with value: 0.09263365896757793.\u001b[0m\n"
     ]
    },
    {
     "name": "stdout",
     "output_type": "stream",
     "text": [
      "current params: {'objective': 'regression', 'metric': 'mape', 'n_jobs': -1, 'n_estimators': 10, 'random_state': 54321, 'num_leaves': 100, 'learning_rate': 0.1776880853574783, 'min_child_samples': 193, 'feature_fraction': 0.7230560757101125, 'bagging_fraction': 0.42488166078719586, 'n_in': 62, 'n_back': 14}\n",
      "X shape before dropped nans (3647, 11)\n",
      "X shape after dropped nans (3633, 11)\n",
      "cv shape before dropped nans 719\n",
      "cv shape after dropped nans 643\n",
      "[LightGBM] [Warning] Auto-choosing col-wise multi-threading, the overhead of testing was 0.022355 seconds.\n",
      "You can set `force_col_wise=true` to remove the overhead.\n",
      "[LightGBM] [Info] Total Bins 160647\n",
      "[LightGBM] [Info] Number of data points in the train set: 643, number of used features: 630\n",
      "[LightGBM] [Warning] Auto-choosing col-wise multi-threading, the overhead of testing was 0.022135 seconds.\n",
      "You can set `force_col_wise=true` to remove the overhead.\n",
      "[LightGBM] [Info] Total Bins 160647\n",
      "[LightGBM] [Info] Number of data points in the train set: 643, number of used features: 630\n",
      "[LightGBM] [Info] Start training from score 4.316203\n",
      "[LightGBM] [Warning] No further splits with positive gain, best gain: -inf\n",
      "[LightGBM] [Info] Start training from score 4.316203\n",
      "[LightGBM] [Warning] No further splits with positive gain, best gain: -inf\n",
      "[LightGBM] [Warning] No further splits with positive gain, best gain: -inf\n",
      "[LightGBM] [Warning] No further splits with positive gain, best gain: -inf\n",
      "[LightGBM] [Warning] No further splits with positive gain, best gain: -inf\n",
      "[LightGBM] [Warning] No further splits with positive gain, best gain: -inf\n",
      "[LightGBM] [Warning] No further splits with positive gain, best gain: -inf\n",
      "[LightGBM] [Warning] No further splits with positive gain, best gain: -inf\n",
      "[LightGBM] [Warning] No further splits with positive gain, best gain: -inf\n",
      "[LightGBM] [Warning] No further splits with positive gain, best gain: -inf\n",
      "[LightGBM] [Warning] No further splits with positive gain, best gain: -inf\n",
      "[LightGBM] [Warning] No further splits with positive gain, best gain: -inf\n",
      "[LightGBM] [Warning] No further splits with positive gain, best gain: -inf\n",
      "[LightGBM] [Warning] No further splits with positive gain, best gain: -inf\n",
      "[LightGBM] [Warning] No further splits with positive gain, best gain: -inf\n",
      "[LightGBM] [Warning] No further splits with positive gain, best gain: -inf\n",
      "[LightGBM] [Warning] No further splits with positive gain, best gain: -inf\n",
      "[LightGBM] [Warning] No further splits with positive gain, best gain: -inf\n",
      "[LightGBM] [Warning] No further splits with positive gain, best gain: -inf\n",
      "[LightGBM] [Warning] No further splits with positive gain, best gain: -inf\n"
     ]
    },
    {
     "name": "stderr",
     "output_type": "stream",
     "text": [
      "\u001b[32m[I 2020-11-29 02:59:40,799]\u001b[0m Trial 1 finished with value: 0.09060085541330458 and parameters: {'num_leaves': 100, 'learning_rate': 0.1776880853574783, 'min_child_samples': 193, 'feature_fraction': 0.7230560757101125, 'bagging_fraction': 0.42488166078719586, 'n_in': 62, 'n_back': 14}. Best is trial 1 with value: 0.09060085541330458.\u001b[0m\n"
     ]
    },
    {
     "name": "stdout",
     "output_type": "stream",
     "text": [
      "[LightGBM] [Warning] Auto-choosing col-wise multi-threading, the overhead of testing was 0.020290 seconds.\n",
      "You can set `force_col_wise=true` to remove the overhead.\n",
      "[LightGBM] [Info] Total Bins 135450\n",
      "[LightGBM] [Info] Number of data points in the train set: 643, number of used features: 630\n",
      "[LightGBM] [Info] Start training from score 4.316203\n",
      "[LightGBM] [Warning] No further splits with positive gain, best gain: -inf\n",
      "[LightGBM] [Warning] No further splits with positive gain, best gain: -inf\n",
      "[LightGBM] [Warning] No further splits with positive gain, best gain: -inf\n",
      "[LightGBM] [Warning] No further splits with positive gain, best gain: -inf\n",
      "[LightGBM] [Warning] No further splits with positive gain, best gain: -inf\n",
      "current params: {'objective': 'regression', 'metric': 'mape', 'n_jobs': -1, 'n_estimators': 10, 'random_state': 54321, 'num_leaves': 16, 'learning_rate': 0.24540914639242384, 'min_child_samples': 160, 'feature_fraction': 0.8051988649519677, 'bagging_fraction': 0.6887474484237568, 'n_in': 72, 'n_back': 63}\n",
      "X shape before dropped nans (3647, 11)\n",
      "X shape after dropped nans (3584, 11)\n",
      "cv shape before dropped nans 719\n",
      "cv shape after dropped nans 584\n",
      "[LightGBM] [Warning] Auto-choosing col-wise multi-threading, the overhead of testing was 0.025259 seconds.\n",
      "You can set `force_col_wise=true` to remove the overhead.\n",
      "[LightGBM] [Info] Total Bins 186150\n",
      "[LightGBM] [Info] Number of data points in the train set: 584, number of used features: 730\n",
      "[LightGBM] [Warning] Auto-choosing col-wise multi-threading, the overhead of testing was 0.024766 seconds.\n",
      "You can set `force_col_wise=true` to remove the overhead.\n",
      "[LightGBM] [Info] Total Bins 186150\n",
      "[LightGBM] [Info] Number of data points in the train set: 584, number of used features: 730\n",
      "[LightGBM] [Info] Start training from score 4.288188\n",
      "[LightGBM] [Warning] No further splits with positive gain, best gain: -inf\n",
      "[LightGBM] [Info] Start training from score 4.288188\n",
      "[LightGBM] [Warning] No further splits with positive gain, best gain: -inf\n",
      "[LightGBM] [Warning] No further splits with positive gain, best gain: -inf\n",
      "[LightGBM] [Warning] No further splits with positive gain, best gain: -inf\n",
      "[LightGBM] [Warning] No further splits with positive gain, best gain: -inf\n",
      "[LightGBM] [Warning] No further splits with positive gain, best gain: -inf\n",
      "[LightGBM] [Warning] No further splits with positive gain, best gain: -inf\n",
      "[LightGBM] [Warning] No further splits with positive gain, best gain: -inf\n",
      "[LightGBM] [Warning] No further splits with positive gain, best gain: -inf\n",
      "[LightGBM] [Warning] No further splits with positive gain, best gain: -inf\n",
      "[LightGBM] [Warning] No further splits with positive gain, best gain: -inf\n",
      "[LightGBM] [Warning] No further splits with positive gain, best gain: -inf\n",
      "[LightGBM] [Warning] No further splits with positive gain, best gain: -inf\n",
      "[LightGBM] [Warning] No further splits with positive gain, best gain: -inf\n",
      "[LightGBM] [Warning] No further splits with positive gain, best gain: -inf\n",
      "[LightGBM] [Warning] No further splits with positive gain, best gain: -inf\n",
      "[LightGBM] [Warning] No further splits with positive gain, best gain: -inf\n",
      "[LightGBM] [Warning] No further splits with positive gain, best gain: -inf\n",
      "[LightGBM] [Warning] No further splits with positive gain, best gain: -inf\n",
      "[LightGBM] [Warning] No further splits with positive gain, best gain: -inf\n"
     ]
    },
    {
     "name": "stderr",
     "output_type": "stream",
     "text": [
      "\u001b[32m[I 2020-11-29 03:00:34,378]\u001b[0m Trial 2 finished with value: 0.09268402882096247 and parameters: {'num_leaves': 16, 'learning_rate': 0.24540914639242384, 'min_child_samples': 160, 'feature_fraction': 0.8051988649519677, 'bagging_fraction': 0.6887474484237568, 'n_in': 72, 'n_back': 63}. Best is trial 1 with value: 0.09060085541330458.\u001b[0m\n"
     ]
    },
    {
     "name": "stdout",
     "output_type": "stream",
     "text": [
      "[LightGBM] [Warning] Auto-choosing col-wise multi-threading, the overhead of testing was 0.022043 seconds.\n",
      "You can set `force_col_wise=true` to remove the overhead.\n",
      "[LightGBM] [Info] Total Bins 142350\n",
      "[LightGBM] [Info] Number of data points in the train set: 584, number of used features: 730\n",
      "[LightGBM] [Info] Start training from score 4.288188\n",
      "[LightGBM] [Warning] No further splits with positive gain, best gain: -inf\n",
      "current params: {'objective': 'regression', 'metric': 'mape', 'n_jobs': -1, 'n_estimators': 10, 'random_state': 54321, 'num_leaves': 237, 'learning_rate': 0.39760815974302116, 'min_child_samples': 217, 'feature_fraction': 0.9663931775415731, 'bagging_fraction': 0.5956979716175553, 'n_in': 2, 'n_back': 22}\n",
      "X shape before dropped nans (3647, 11)\n",
      "X shape after dropped nans (3625, 11)\n",
      "cv shape before dropped nans 719\n"
     ]
    },
    {
     "name": "stderr",
     "output_type": "stream",
     "text": [
      "\u001b[32m[I 2020-11-29 03:00:59,464]\u001b[0m Trial 3 finished with value: 0.09193369180799435 and parameters: {'num_leaves': 237, 'learning_rate': 0.39760815974302116, 'min_child_samples': 217, 'feature_fraction': 0.9663931775415731, 'bagging_fraction': 0.5956979716175553, 'n_in': 2, 'n_back': 22}. Best is trial 1 with value: 0.09060085541330458.\u001b[0m\n"
     ]
    },
    {
     "name": "stdout",
     "output_type": "stream",
     "text": [
      "cv shape after dropped nans 695\n",
      "[LightGBM] [Warning] Auto-choosing col-wise multi-threading, the overhead of testing was 0.000837 seconds.\n",
      "You can set `force_col_wise=true` to remove the overhead.\n",
      "[LightGBM] [Info] Total Bins 7650\n",
      "[LightGBM] [Info] Number of data points in the train set: 695, number of used features: 30\n",
      "[LightGBM] [Warning] Auto-choosing col-wise multi-threading, the overhead of testing was 0.000898 seconds.\n",
      "You can set `force_col_wise=true` to remove the overhead.\n",
      "[LightGBM] [Info] Total Bins 7650\n",
      "[LightGBM] [Info] Number of data points in the train set: 695, number of used features: 30\n",
      "[LightGBM] [Info] Start training from score 4.282110\n",
      "[LightGBM] [Warning] No further splits with positive gain, best gain: -inf\n",
      "[LightGBM] [Info] Start training from score 4.282110\n",
      "[LightGBM] [Warning] No further splits with positive gain, best gain: -inf\n",
      "[LightGBM] [Warning] No further splits with positive gain, best gain: -inf\n",
      "[LightGBM] [Warning] No further splits with positive gain, best gain: -inf\n",
      "[LightGBM] [Warning] No further splits with positive gain, best gain: -inf\n",
      "[LightGBM] [Warning] No further splits with positive gain, best gain: -inf\n",
      "[LightGBM] [Warning] No further splits with positive gain, best gain: -inf\n",
      "[LightGBM] [Warning] No further splits with positive gain, best gain: -inf\n",
      "[LightGBM] [Warning] No further splits with positive gain, best gain: -inf\n",
      "[LightGBM] [Warning] No further splits with positive gain, best gain: -inf\n",
      "[LightGBM] [Warning] No further splits with positive gain, best gain: -inf\n",
      "[LightGBM] [Warning] No further splits with positive gain, best gain: -inf\n",
      "[LightGBM] [Warning] No further splits with positive gain, best gain: -inf\n",
      "[LightGBM] [Warning] No further splits with positive gain, best gain: -inf\n",
      "[LightGBM] [Warning] No further splits with positive gain, best gain: -inf\n",
      "[LightGBM] [Warning] No further splits with positive gain, best gain: -inf\n",
      "[LightGBM] [Warning] No further splits with positive gain, best gain: -inf\n",
      "[LightGBM] [Warning] No further splits with positive gain, best gain: -inf\n",
      "[LightGBM] [Warning] No further splits with positive gain, best gain: -inf\n",
      "[LightGBM] [Warning] No further splits with positive gain, best gain: -inf\n",
      "[LightGBM] [Warning] Auto-choosing col-wise multi-threading, the overhead of testing was 0.000756 seconds.\n",
      "You can set `force_col_wise=true` to remove the overhead.\n",
      "[LightGBM] [Info] Total Bins 6960\n",
      "[LightGBM] [Info] Number of data points in the train set: 695, number of used features: 30\n",
      "[LightGBM] [Info] Start training from score 4.282110\n",
      "[LightGBM] [Warning] No further splits with positive gain, best gain: -inf\n",
      "[LightGBM] [Warning] No further splits with positive gain, best gain: -inf\n",
      "[LightGBM] [Warning] No further splits with positive gain, best gain: -inf\n",
      "[LightGBM] [Warning] No further splits with positive gain, best gain: -inf\n",
      "current params: {'objective': 'regression', 'metric': 'mape', 'n_jobs': -1, 'n_estimators': 10, 'random_state': 54321, 'num_leaves': 237, 'learning_rate': 0.036415021459367036, 'min_child_samples': 80, 'feature_fraction': 0.6230415680657043, 'bagging_fraction': 0.8311536741984584, 'n_in': 64, 'n_back': 8}\n",
      "X shape before dropped nans (3647, 11)\n",
      "X shape after dropped nans (3639, 11)\n",
      "cv shape before dropped nans 719\n",
      "cv shape after dropped nans 647\n",
      "[LightGBM] [Warning] Auto-choosing col-wise multi-threading, the overhead of testing was 0.022999 seconds.\n",
      "You can set `force_col_wise=true` to remove the overhead.\n",
      "[LightGBM] [Info] Total Bins 165747\n",
      "[LightGBM] [Info] Number of data points in the train set: 647, number of used features: 650\n",
      "[LightGBM] [Warning] Auto-choosing col-wise multi-threading, the overhead of testing was 0.022656 seconds.\n",
      "You can set `force_col_wise=true` to remove the overhead.\n",
      "[LightGBM] [Info] Total Bins 165747\n",
      "[LightGBM] [Info] Number of data points in the train set: 647, number of used features: 650\n",
      "[LightGBM] [Info] Start training from score 4.319111\n",
      "[LightGBM] [Warning] No further splits with positive gain, best gain: -inf\n",
      "[LightGBM] [Info] Start training from score 4.319111\n",
      "[LightGBM] [Warning] No further splits with positive gain, best gain: -inf\n",
      "[LightGBM] [Warning] No further splits with positive gain, best gain: -inf\n",
      "[LightGBM] [Warning] No further splits with positive gain, best gain: -inf\n",
      "[LightGBM] [Warning] No further splits with positive gain, best gain: -inf\n",
      "[LightGBM] [Warning] No further splits with positive gain, best gain: -inf\n",
      "[LightGBM] [Warning] No further splits with positive gain, best gain: -inf\n",
      "[LightGBM] [Warning] No further splits with positive gain, best gain: -inf\n",
      "[LightGBM] [Warning] No further splits with positive gain, best gain: -inf\n",
      "[LightGBM] [Warning] No further splits with positive gain, best gain: -inf\n",
      "[LightGBM] [Warning] No further splits with positive gain, best gain: -inf\n",
      "[LightGBM] [Warning] No further splits with positive gain, best gain: -inf\n",
      "[LightGBM] [Warning] No further splits with positive gain, best gain: -inf\n",
      "[LightGBM] [Warning] No further splits with positive gain, best gain: -inf\n",
      "[LightGBM] [Warning] No further splits with positive gain, best gain: -inf\n",
      "[LightGBM] [Warning] No further splits with positive gain, best gain: -inf\n",
      "[LightGBM] [Warning] No further splits with positive gain, best gain: -inf\n",
      "[LightGBM] [Warning] No further splits with positive gain, best gain: -inf\n",
      "[LightGBM] [Warning] No further splits with positive gain, best gain: -inf\n",
      "[LightGBM] [Warning] No further splits with positive gain, best gain: -inf\n",
      "[LightGBM] [Warning] Auto-choosing col-wise multi-threading, the overhead of testing was 0.021219 seconds.\n",
      "You can set `force_col_wise=true` to remove the overhead.\n",
      "[LightGBM] [Info] Total Bins 140400\n",
      "[LightGBM] [Info] Number of data points in the train set: 647, number of used features: 650\n",
      "[LightGBM] [Info] Start training from score 4.319111\n",
      "[LightGBM] [Warning] No further splits with positive gain, best gain: -inf\n",
      "[LightGBM] [Warning] No further splits with positive gain, best gain: -inf\n",
      "[LightGBM] [Warning] No further splits with positive gain, best gain: -inf\n",
      "[LightGBM] [Warning] No further splits with positive gain, best gain: -inf\n",
      "[LightGBM] [Warning] No further splits with positive gain, best gain: -inf\n"
     ]
    },
    {
     "name": "stderr",
     "output_type": "stream",
     "text": [
      "\u001b[32m[I 2020-11-29 03:01:51,192]\u001b[0m Trial 4 finished with value: 0.09231217282464407 and parameters: {'num_leaves': 237, 'learning_rate': 0.036415021459367036, 'min_child_samples': 80, 'feature_fraction': 0.6230415680657043, 'bagging_fraction': 0.8311536741984584, 'n_in': 64, 'n_back': 8}. Best is trial 1 with value: 0.09060085541330458.\u001b[0m\n"
     ]
    },
    {
     "name": "stdout",
     "output_type": "stream",
     "text": [
      "current params: {'objective': 'regression', 'metric': 'mape', 'n_jobs': -1, 'n_estimators': 10, 'random_state': 54321, 'num_leaves': 122, 'learning_rate': 0.0585840657739214, 'min_child_samples': 220, 'feature_fraction': 0.9316910269190632, 'bagging_fraction': 0.5073912237992515, 'n_in': 10, 'n_back': 71}\n",
      "X shape before dropped nans (3647, 11)\n",
      "X shape after dropped nans (3576, 11)\n",
      "cv shape before dropped nans 719\n"
     ]
    },
    {
     "name": "stderr",
     "output_type": "stream",
     "text": [
      "\u001b[32m[I 2020-11-29 03:02:20,604]\u001b[0m Trial 5 finished with value: 0.09231550128187341 and parameters: {'num_leaves': 122, 'learning_rate': 0.0585840657739214, 'min_child_samples': 220, 'feature_fraction': 0.9316910269190632, 'bagging_fraction': 0.5073912237992515, 'n_in': 10, 'n_back': 71}. Best is trial 1 with value: 0.09060085541330458.\u001b[0m\n"
     ]
    },
    {
     "name": "stdout",
     "output_type": "stream",
     "text": [
      "cv shape after dropped nans 638\n",
      "[LightGBM] [Warning] Auto-choosing col-wise multi-threading, the overhead of testing was 0.003126 seconds.\n",
      "You can set `force_col_wise=true` to remove the overhead.\n",
      "[LightGBM] [Info] Total Bins 28050\n",
      "[LightGBM] [Info] Number of data points in the train set: 638, number of used features: 110\n",
      "[LightGBM] [Warning] Auto-choosing col-wise multi-threading, the overhead of testing was 0.003185 seconds.\n",
      "You can set `force_col_wise=true` to remove the overhead.\n",
      "[LightGBM] [Info] Total Bins 28050\n",
      "[LightGBM] [Info] Number of data points in the train set: 638, number of used features: 110\n",
      "[LightGBM] [Info] Start training from score 4.312528\n",
      "[LightGBM] [Warning] No further splits with positive gain, best gain: -inf\n",
      "[LightGBM] [Info] Start training from score 4.312528\n",
      "[LightGBM] [Warning] No further splits with positive gain, best gain: -inf\n",
      "[LightGBM] [Warning] No further splits with positive gain, best gain: -inf\n",
      "[LightGBM] [Warning] No further splits with positive gain, best gain: -inf\n",
      "[LightGBM] [Warning] No further splits with positive gain, best gain: -inf\n",
      "[LightGBM] [Warning] No further splits with positive gain, best gain: -inf\n",
      "[LightGBM] [Warning] No further splits with positive gain, best gain: -inf\n",
      "[LightGBM] [Warning] No further splits with positive gain, best gain: -inf\n",
      "[LightGBM] [Warning] No further splits with positive gain, best gain: -inf\n",
      "[LightGBM] [Warning] No further splits with positive gain, best gain: -inf\n",
      "[LightGBM] [Warning] No further splits with positive gain, best gain: -inf\n",
      "[LightGBM] [Warning] No further splits with positive gain, best gain: -inf\n",
      "[LightGBM] [Warning] No further splits with positive gain, best gain: -inf\n",
      "[LightGBM] [Warning] No further splits with positive gain, best gain: -inf\n",
      "[LightGBM] [Warning] No further splits with positive gain, best gain: -inf\n",
      "[LightGBM] [Warning] No further splits with positive gain, best gain: -inf\n",
      "[LightGBM] [Warning] No further splits with positive gain, best gain: -inf\n",
      "[LightGBM] [Warning] No further splits with positive gain, best gain: -inf\n",
      "[LightGBM] [Warning] No further splits with positive gain, best gain: -inf\n",
      "[LightGBM] [Warning] No further splits with positive gain, best gain: -inf\n",
      "[LightGBM] [Warning] Auto-choosing col-wise multi-threading, the overhead of testing was 0.002455 seconds.\n",
      "You can set `force_col_wise=true` to remove the overhead.\n",
      "[LightGBM] [Info] Total Bins 23430\n",
      "[LightGBM] [Info] Number of data points in the train set: 638, number of used features: 110\n",
      "[LightGBM] [Info] Start training from score 4.312528\n",
      "[LightGBM] [Warning] No further splits with positive gain, best gain: -inf\n",
      "[LightGBM] [Warning] No further splits with positive gain, best gain: -inf\n",
      "current params: {'objective': 'regression', 'metric': 'mape', 'n_jobs': -1, 'n_estimators': 10, 'random_state': 54321, 'num_leaves': 95, 'learning_rate': 0.2533985023319476, 'min_child_samples': 68, 'feature_fraction': 0.6797975595123207, 'bagging_fraction': 0.4624139070665466, 'n_in': 79, 'n_back': 90}\n",
      "X shape before dropped nans (3647, 11)\n",
      "X shape after dropped nans (3557, 11)\n",
      "cv shape before dropped nans 719\n",
      "cv shape after dropped nans 550\n",
      "[LightGBM] [Warning] Auto-choosing col-wise multi-threading, the overhead of testing was 0.027603 seconds.\n",
      "You can set `force_col_wise=true` to remove the overhead.\n",
      "[LightGBM] [Info] Total Bins 204000\n",
      "[LightGBM] [Info] Number of data points in the train set: 550, number of used features: 800\n",
      "[LightGBM] [Warning] Auto-choosing col-wise multi-threading, the overhead of testing was 0.027435 seconds.\n",
      "You can set `force_col_wise=true` to remove the overhead.\n",
      "[LightGBM] [Info] Total Bins 204000\n",
      "[LightGBM] [Info] Number of data points in the train set: 550, number of used features: 800\n",
      "[LightGBM] [Info] Start training from score 4.312250\n",
      "[LightGBM] [Warning] No further splits with positive gain, best gain: -inf\n",
      "[LightGBM] [Info] Start training from score 4.312250\n",
      "[LightGBM] [Warning] No further splits with positive gain, best gain: -inf\n",
      "[LightGBM] [Warning] No further splits with positive gain, best gain: -inf\n",
      "[LightGBM] [Warning] No further splits with positive gain, best gain: -inf\n",
      "[LightGBM] [Warning] No further splits with positive gain, best gain: -inf\n",
      "[LightGBM] [Warning] No further splits with positive gain, best gain: -inf\n",
      "[LightGBM] [Warning] No further splits with positive gain, best gain: -inf\n",
      "[LightGBM] [Warning] No further splits with positive gain, best gain: -inf\n",
      "[LightGBM] [Warning] No further splits with positive gain, best gain: -inf\n",
      "[LightGBM] [Warning] No further splits with positive gain, best gain: -inf\n",
      "[LightGBM] [Warning] No further splits with positive gain, best gain: -inf\n",
      "[LightGBM] [Warning] No further splits with positive gain, best gain: -inf\n",
      "[LightGBM] [Warning] No further splits with positive gain, best gain: -inf\n",
      "[LightGBM] [Warning] No further splits with positive gain, best gain: -inf\n",
      "[LightGBM] [Warning] No further splits with positive gain, best gain: -inf\n",
      "[LightGBM] [Warning] No further splits with positive gain, best gain: -inf\n",
      "[LightGBM] [Warning] No further splits with positive gain, best gain: -inf\n",
      "[LightGBM] [Warning] No further splits with positive gain, best gain: -inf\n",
      "[LightGBM] [Warning] No further splits with positive gain, best gain: -inf\n",
      "[LightGBM] [Warning] No further splits with positive gain, best gain: -inf\n",
      "[LightGBM] [Warning] "
     ]
    },
    {
     "name": "stderr",
     "output_type": "stream",
     "text": [
      "\u001b[32m[I 2020-11-29 03:03:15,690]\u001b[0m Trial 6 finished with value: 0.09200670611231761 and parameters: {'num_leaves': 95, 'learning_rate': 0.2533985023319476, 'min_child_samples': 68, 'feature_fraction': 0.6797975595123207, 'bagging_fraction': 0.4624139070665466, 'n_in': 79, 'n_back': 90}. Best is trial 1 with value: 0.09060085541330458.\u001b[0m\n"
     ]
    },
    {
     "name": "stdout",
     "output_type": "stream",
     "text": [
      "Auto-choosing col-wise multi-threading, the overhead of testing was 0.023220 seconds.\n",
      "You can set `force_col_wise=true` to remove the overhead.\n",
      "[LightGBM] [Info] Total Bins 147200\n",
      "[LightGBM] [Info] Number of data points in the train set: 550, number of used features: 800\n",
      "[LightGBM] [Info] Start training from score 4.312250\n",
      "[LightGBM] [Warning] No further splits with positive gain, best gain: -inf\n",
      "[LightGBM] [Warning] No further splits with positive gain, best gain: -inf\n",
      "current params: {'objective': 'regression', 'metric': 'mape', 'n_jobs': -1, 'n_estimators': 10, 'random_state': 54321, 'num_leaves': 256, 'learning_rate': 0.10785544767261263, 'min_child_samples': 74, 'feature_fraction': 0.40503045729245485, 'bagging_fraction': 0.914330770409679, 'n_in': 21, 'n_back': 17}\n",
      "X shape before dropped nans (3647, 11)\n",
      "X shape after dropped nans (3630, 11)\n",
      "cv shape before dropped nans 719\n",
      "cv shape after dropped nans 681\n",
      "[LightGBM] [Warning] Auto-choosing col-wise multi-threading, the overhead of testing was 0.006682 seconds.\n",
      "You can set `force_col_wise=true` to remove the overhead.\n",
      "[LightGBM] [Info] Total Bins 56100\n",
      "[LightGBM] [Info] Number of data points in the train set: 681, number of used features: 220\n",
      "[LightGBM] [Warning] Auto-choosing col-wise multi-threading, the overhead of testing was 0.006386 seconds.\n",
      "You can set `force_col_wise=true` to remove the overhead.\n",
      "[LightGBM] [Info] Total Bins 56100\n",
      "[LightGBM] [Info] Number of data points in the train set: 681, number of used features: 220\n",
      "[LightGBM] [Info] Start training from score 4.307991\n",
      "[LightGBM] [Warning] No further splits with positive gain, best gain: -inf\n",
      "[LightGBM] [Info] Start training from score 4.307991\n",
      "[LightGBM] [Warning] No further splits with positive gain, best gain: -inf\n",
      "[LightGBM] [Warning] No further splits with positive gain, best gain: -inf\n",
      "[LightGBM] [Warning] No further splits with positive gain, best gain: -inf\n",
      "[LightGBM] [Warning] No further splits with positive gain, best gain: -inf\n",
      "[LightGBM] [Warning] No further splits with positive gain, best gain: -inf\n",
      "[LightGBM] [Warning] No further splits with positive gain, best gain: -inf\n",
      "[LightGBM] [Warning] No further splits with positive gain, best gain: -inf\n",
      "[LightGBM] [Warning] No further splits with positive gain, best gain: -inf\n",
      "[LightGBM] [Warning] No further splits with positive gain, best gain: -inf\n",
      "[LightGBM] [Warning] No further splits with positive gain, best gain: -inf\n",
      "[LightGBM] [Warning] No further splits with positive gain, best gain: -inf\n",
      "[LightGBM] [Warning] No further splits with positive gain, best gain: -inf\n",
      "[LightGBM] [Warning] No further splits with positive gain, best gain: -inf\n",
      "[LightGBM] [Warning] No further splits with positive gain, best gain: -inf\n",
      "[LightGBM] [Warning] No further splits with positive gain, best gain: -inf\n",
      "[LightGBM] [Warning] No further splits with positive gain, best gain: -inf\n",
      "[LightGBM] [Warning] No further splits with positive gain, best gain: -inf\n",
      "[LightGBM] [Warning] No further splits with positive gain, best gain: -inf\n",
      "[LightGBM] [Warning] No further splits with positive gain, best gain: -inf\n"
     ]
    },
    {
     "name": "stderr",
     "output_type": "stream",
     "text": [
      "\u001b[32m[I 2020-11-29 03:03:50,410]\u001b[0m Trial 7 finished with value: 0.09202113765505691 and parameters: {'num_leaves': 256, 'learning_rate': 0.10785544767261263, 'min_child_samples': 74, 'feature_fraction': 0.40503045729245485, 'bagging_fraction': 0.914330770409679, 'n_in': 21, 'n_back': 17}. Best is trial 1 with value: 0.09060085541330458.\u001b[0m\n"
     ]
    },
    {
     "name": "stdout",
     "output_type": "stream",
     "text": [
      "[LightGBM] [Warning] Auto-choosing col-wise multi-threading, the overhead of testing was 0.006428 seconds.\n",
      "You can set `force_col_wise=true` to remove the overhead.\n",
      "[LightGBM] [Info] Total Bins 50160\n",
      "[LightGBM] [Info] Number of data points in the train set: 681, number of used features: 220\n",
      "[LightGBM] [Info] Start training from score 4.307991\n",
      "[LightGBM] [Warning] No further splits with positive gain, best gain: -inf\n",
      "[LightGBM] [Warning] No further splits with positive gain, best gain: -inf\n",
      "current params: {'objective': 'regression', 'metric': 'mape', 'n_jobs': -1, 'n_estimators': 10, 'random_state': 54321, 'num_leaves': 119, 'learning_rate': 0.26749465811232825, 'min_child_samples': 56, 'feature_fraction': 0.8849333789478713, 'bagging_fraction': 0.46171120010460803, 'n_in': 134, 'n_back': 40}\n",
      "X shape before dropped nans (3647, 11)\n",
      "X shape after dropped nans (3607, 11)\n",
      "cv shape before dropped nans 719\n"
     ]
    }
   ],
   "source": [
    "my_training = training(name = 'NN', nn_model = simple_torchpl, training_nn = nn_training,\n",
    "                       description = 'Ffill. 1 train set for all folds. 1 model for all targets. LGBM. \\\n",
    "                       Loss = MAPE. No normalisation. Only first 2 fold and test set(last fold).Dropped data before 2020-02-15 00:00:00',\n",
    "                       upload_source_files = ['cv.py', \n",
    "                                              'load_data.py', \n",
    "                                              'model_selection.py',\n",
    "                                              'NN.py',\n",
    "                                              'pl_framework.py'])\n",
    "my_training.set_up_studying(random_state = random_state)\n",
    "\n",
    "model = 'lgbm'\n",
    "\n",
    "def params_func(trial, X):\n",
    "    return(\n",
    "{        'objective': 'regression',\n",
    "        'metric': 'mape',\n",
    "        'n_jobs': -1,\n",
    "        'n_estimators': 10,\n",
    "        'random_state': random_state,\n",
    "        'num_leaves': trial.suggest_int('num_leaves', 2, 256),\n",
    "        'learning_rate': trial.suggest_loguniform('learning_rate', 0.01, 1.5),\n",
    "        'min_child_samples': trial.suggest_int('min_child_samples', 2, 256),\n",
    "        'feature_fraction': trial.suggest_uniform('feature_fraction', 0.4, 1.0),\n",
    "        'bagging_fraction': trial.suggest_uniform('bagging_fraction', 0.4, 1.0),\n",
    "        'n_in': trial.suggest_int('n_in', 1, 150),\n",
    "        'n_back': trial.suggest_int('n_back', 1, 150)}\n",
    "    )\n",
    "\n",
    "n_trials = 100\n",
    "my_training.train(X = train_features, \n",
    "                  y = train_targets, \n",
    "                  cv = cv, \n",
    "                  model=model, \n",
    "                  params_func = params_func, \n",
    "                  n_trials = n_trials)"
   ]
  },
  {
   "cell_type": "code",
   "execution_count": null,
   "metadata": {},
   "outputs": [],
   "source": [
    "#neptune.log_metric('leaderboard_mape', 3.2443)\n",
    "#neptune.project.get_experiments('SIB-205')[0].stop()\n",
    "#neptune.stop()"
   ]
  }
 ],
 "metadata": {
  "kernelspec": {
   "display_name": "Python 3",
   "language": "python",
   "name": "python3"
  },
  "language_info": {
   "codemirror_mode": {
    "name": "ipython",
    "version": 3
   },
   "file_extension": ".py",
   "mimetype": "text/x-python",
   "name": "python",
   "nbconvert_exporter": "python",
   "pygments_lexer": "ipython3",
   "version": "3.8.3"
  },
  "latex_envs": {
   "LaTeX_envs_menu_present": true,
   "autoclose": false,
   "autocomplete": true,
   "bibliofile": "biblio.bib",
   "cite_by": "apalike",
   "current_citInitial": 1,
   "eqLabelWithNumbers": true,
   "eqNumInitial": 1,
   "hotkeys": {
    "equation": "Ctrl-E",
    "itemize": "Ctrl-I"
   },
   "labels_anchors": false,
   "latex_user_defs": false,
   "report_style_numbering": false,
   "user_envs_cfg": false
  },
  "neptune": {
   "notebookId": "3334104b-e4da-40ca-a353-d78790164c0b"
  }
 },
 "nbformat": 4,
 "nbformat_minor": 4
}
