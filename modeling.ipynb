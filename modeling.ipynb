{
 "cells": [
  {
   "cell_type": "markdown",
   "metadata": {},
   "source": [
    "# Библиотеки"
   ]
  },
  {
   "cell_type": "code",
   "execution_count": 1,
   "metadata": {},
   "outputs": [],
   "source": [
    "import neptune\n",
    "import pandas as pd\n",
    "\n",
    "from cv import get_indices\n",
    "from load_data import load\n",
    "from model_selection import training\n",
    "import random\n",
    "from NN import simple_torchpl\n",
    "from pl_framework import nn_training\n",
    "from pytorch_forecasting.metrics import MAPE\n",
    "import torch"
   ]
  },
  {
   "cell_type": "code",
   "execution_count": 2,
   "metadata": {},
   "outputs": [
    {
     "name": "stderr",
     "output_type": "stream",
     "text": [
      "WARNING: There is a new version of neptune-client 0.4.125 (installed: 0.4.124).\n"
     ]
    },
    {
     "data": {
      "text/plain": [
       "Project(iliaavilov/SIBUR)"
      ]
     },
     "execution_count": 2,
     "metadata": {},
     "output_type": "execute_result"
    }
   ],
   "source": [
    "neptune.init('iliaavilov/SIBUR')"
   ]
  },
  {
   "cell_type": "code",
   "execution_count": 3,
   "metadata": {},
   "outputs": [],
   "source": [
    "import os\n",
    "os.environ['NEPTUNE_API_TOKEN']=\"eyJhcGlfYWRkcmVzcyI6Imh0dHBzOi8vdWkubmVwdHVuZS5haSIsImFwaV91cmwiOiJodHRwczovL3VpLm5lcHR1bmUuYWkiLCJhcGlfa2V5IjoiYzI0ZTMzMDQtZTFmZi00ZjgxLWI4NGQtZGJiOWQyNDJiYjE5In0=\"\n",
    "os.environ['NEPTUNE_PROJECT']=\"iliaavilov/SIBUR\"\n",
    "os.environ['NEPTUNE_NOTEBOOK_ID']=\"3334104b-e4da-40ca-a353-d78790164c0b\"\n",
    "os.environ['NEPTUNE_NOTEBOOK_PATH']=\"Desktop/Projects/sibur_2020/modeling.ipynb\""
   ]
  },
  {
   "cell_type": "markdown",
   "metadata": {},
   "source": [
    "# Константы"
   ]
  },
  {
   "cell_type": "code",
   "execution_count": 4,
   "metadata": {},
   "outputs": [],
   "source": [
    "data_path = 'data/'\n",
    "random_state = 54321"
   ]
  },
  {
   "cell_type": "markdown",
   "metadata": {},
   "source": [
    "# Загрузка данных"
   ]
  },
  {
   "cell_type": "code",
   "execution_count": 5,
   "metadata": {},
   "outputs": [],
   "source": [
    "train_features, train_targets, _ = load(data_path)"
   ]
  },
  {
   "cell_type": "markdown",
   "metadata": {},
   "source": [
    "# Валидация"
   ]
  },
  {
   "cell_type": "code",
   "execution_count": 6,
   "metadata": {
    "scrolled": true
   },
   "outputs": [],
   "source": [
    "cv = get_indices(train_targets, [(pd.to_datetime('2020-03-01 00:00:00'), pd.to_datetime('2020-03-15 00:00:00')),\n",
    "                                 (pd.to_datetime('2020-03-15 00:00:00'), pd.to_datetime('2020-03-31 00:00:00')),\n",
    "                                 (pd.to_datetime('2020-04-15 00:00:00'), pd.to_datetime('2020-04-30 00:00:00'))\n",
    "                                ]\n",
    "                )"
   ]
  },
  {
   "cell_type": "code",
   "execution_count": 7,
   "metadata": {},
   "outputs": [],
   "source": [
    "#train_targets = train_targets.drop('timestamp', axis = 'columns')\n",
    "#train_features = train_features.drop('timestamp', axis = 'columns')"
   ]
  },
  {
   "cell_type": "markdown",
   "metadata": {},
   "source": [
    "# Подбор модели"
   ]
  },
  {
   "cell_type": "code",
   "execution_count": null,
   "metadata": {
    "scrolled": true
   },
   "outputs": [
    {
     "name": "stdout",
     "output_type": "stream",
     "text": [
      "https://ui.neptune.ai/iliaavilov/SIBUR/e/SIB-248\r\n"
     ]
    },
    {
     "name": "stderr",
     "output_type": "stream",
     "text": [
      "\u001b[32m[I 2020-11-29 17:38:40,283]\u001b[0m A new study created in memory with name: no-name-d16e1a02-feef-4d12-b8cd-5751ea3095c4\u001b[0m\n"
     ]
    },
    {
     "name": "stdout",
     "output_type": "stream",
     "text": [
      "current params: {'objective': 'regression', 'metric': 'mape', 'n_jobs': -1, 'n_estimators': 10, 'random_state': 54321, 'num_leaves': 83, 'learning_rate': 0.12858766698944454, 'min_child_samples': 98, 'feature_fraction': 0.8750823012386388, 'bagging_fraction': 0.6578708780010873, 'n_in': 11, 'n_back': 128}\n",
      "X shape before dropped nans (3647, 11)\n",
      "cv before trans: 719\n",
      "Initial shape of X after dropping nans: (3519, 11)\n",
      "Initial shape of y: (3647, 5)\n"
     ]
    }
   ],
   "source": [
    "my_training = training(name = 'LGBM_C2H6', nn_model = simple_torchpl, training_nn = nn_training,\n",
    "                       description = 'Ffill. 1 train set for all folds. 1 model for all targets. LGBM. \\\n",
    "                       Loss = MAPE. No normalisation. Only first 2 fold and test set(last fold).Dropped data before 2020-02-15 00:00:00',\n",
    "                       upload_source_files = ['cv.py', \n",
    "                                              'load_data.py', \n",
    "                                              'model_selection.py',\n",
    "                                              'NN.py',\n",
    "                                              'pl_framework.py'])\n",
    "my_training.set_up_studying(random_state = random_state)\n",
    "\n",
    "model = 'lgbm'\n",
    "\n",
    "def params_func(trial, X):\n",
    "    return(\n",
    "{        'objective': 'regression',\n",
    "        'metric': 'mape',\n",
    "        'n_jobs': -1,\n",
    "        'n_estimators': 10,\n",
    "        'random_state': random_state,\n",
    "        'num_leaves': trial.suggest_int('num_leaves', 2, 256),\n",
    "        'learning_rate': trial.suggest_loguniform('learning_rate', 0.01, 1.5),\n",
    "        'min_child_samples': trial.suggest_int('min_child_samples', 2, 256),\n",
    "        'feature_fraction': trial.suggest_uniform('feature_fraction', 0.4, 1.0),\n",
    "        'bagging_fraction': trial.suggest_uniform('bagging_fraction', 0.4, 1.0),\n",
    "        'n_in': trial.suggest_int('n_in', 1, 150),\n",
    "        'n_back': trial.suggest_int('n_back', 1, 150)}\n",
    "    )\n",
    "\n",
    "n_trials = 100\n",
    "my_training.train(X = train_features, \n",
    "                  y = train_targets, \n",
    "                  cv = cv, \n",
    "                  model=model, \n",
    "                  params_func = params_func, \n",
    "                  n_trials = n_trials)"
   ]
  },
  {
   "cell_type": "code",
   "execution_count": null,
   "metadata": {},
   "outputs": [],
   "source": [
    "#neptune.log_metric('leaderboard_mape', 3.2443)\n",
    "#neptune.project.get_experiments('SIB-205')[0].stop()\n",
    "#neptune.stop()"
   ]
  }
 ],
 "metadata": {
  "kernelspec": {
   "display_name": "Python 3",
   "language": "python",
   "name": "python3"
  },
  "language_info": {
   "codemirror_mode": {
    "name": "ipython",
    "version": 3
   },
   "file_extension": ".py",
   "mimetype": "text/x-python",
   "name": "python",
   "nbconvert_exporter": "python",
   "pygments_lexer": "ipython3",
   "version": "3.8.3"
  },
  "latex_envs": {
   "LaTeX_envs_menu_present": true,
   "autoclose": false,
   "autocomplete": true,
   "bibliofile": "biblio.bib",
   "cite_by": "apalike",
   "current_citInitial": 1,
   "eqLabelWithNumbers": true,
   "eqNumInitial": 1,
   "hotkeys": {
    "equation": "Ctrl-E",
    "itemize": "Ctrl-I"
   },
   "labels_anchors": false,
   "latex_user_defs": false,
   "report_style_numbering": false,
   "user_envs_cfg": false
  },
  "neptune": {
   "notebookId": "3334104b-e4da-40ca-a353-d78790164c0b"
  }
 },
 "nbformat": 4,
 "nbformat_minor": 4
}
